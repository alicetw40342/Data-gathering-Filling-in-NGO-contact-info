{
  "nbformat": 4,
  "nbformat_minor": 0,
  "metadata": {
    "colab": {
      "provenance": [],
      "authorship_tag": "ABX9TyOXGHtSo10tMRQOHQoxRtd5",
      "include_colab_link": true
    },
    "kernelspec": {
      "name": "python3",
      "display_name": "Python 3"
    },
    "language_info": {
      "name": "python"
    }
  },
  "cells": [
    {
      "cell_type": "markdown",
      "metadata": {
        "id": "view-in-github",
        "colab_type": "text"
      },
      "source": [
        "<a href=\"https://colab.research.google.com/github/alicetw40342/Data-gathering-Filling-in-NGO-contact-info/blob/main/Project4_task2.ipynb\" target=\"_parent\"><img src=\"https://colab.research.google.com/assets/colab-badge.svg\" alt=\"Open In Colab\"/></a>"
      ]
    },
    {
      "cell_type": "code",
      "execution_count": 1,
      "metadata": {
        "colab": {
          "base_uri": "https://localhost:8080/"
        },
        "id": "2h_JRaGXnsRH",
        "outputId": "5be22469-050e-4a9b-fb28-786e661d2eac"
      },
      "outputs": [
        {
          "output_type": "stream",
          "name": "stdout",
          "text": [
            "請選擇你負責範圍內的下一筆未完成資料列\n",
            "請輸入該筆資料的 Org name：Save the Children\n",
            "請輸入該筆資料的 EIN（如無則輸入 NA）：13-3181510\n",
            "\n",
            "📡 建議搜尋字串： Save the Children EIN 13-3181510 website\n",
            "🔍 使用 Google 搜尋或 AI 工具來找出官網\n",
            "請輸入你找到的官方網站網址（或 NA）：https://www.savethechildren.org\n",
            "請輸入你找到的聯絡 Email（或 NA）：support@savethechildren.org\n",
            "請輸入你找到的電話號碼（或 NA）：1-800-728-3843\n",
            "請輸入你的英文縮寫：AH\n",
            "\n",
            "以下是你可填入 Google Sheet 的欄位值：\n",
            "Org name: Save the Children\n",
            "EIN: 13-3181510\n",
            "Web Address: https://www.savethechildren.org\n",
            "Email Address: support@savethechildren.org\n",
            "Phone Number: 1-800-728-3843\n",
            "Student's Initial: AH\n"
          ]
        }
      ],
      "source": [
        "# NGO Contact Info - Phase 2: Data Gathering Process\n",
        "\n",
        "# ✅ Step 1: Select an Entry\n",
        "print(\"請選擇你負責範圍內的下一筆未完成資料列\")\n",
        "\n",
        "# ✅ Step 2: Identify Key Info\n",
        "org_name = input(\"請輸入該筆資料的 Org name：\")\n",
        "ein = input(\"請輸入該筆資料的 EIN（如無則輸入 NA）：\")\n",
        "\n",
        "# ✅ Step 3: Start Searching\n",
        "search_query = f\"{org_name} EIN {ein} website\"\n",
        "print(\"\\n📡 建議搜尋字串：\", search_query)\n",
        "print(\"🔍 使用 Google 搜尋或 AI 工具來找出官網\")\n",
        "\n",
        "# ✅ Step 4: Website\n",
        "web_address = input(\"請輸入你找到的官方網站網址（或 NA）：\")\n",
        "\n",
        "# ✅ Step 5: Email\n",
        "email_address = input(\"請輸入你找到的聯絡 Email（或 NA）：\")\n",
        "\n",
        "# ✅ Step 6: Phone Number\n",
        "phone_number = input(\"請輸入你找到的電話號碼（或 NA）：\")\n",
        "\n",
        "# ✅ Step 7: 確認已完成並註記\n",
        "your_initials = input(\"請輸入你的英文縮寫：\")\n",
        "\n",
        "# ✅ Step 8: 完整記錄輸出（可手動貼入 Google Sheet）\n",
        "print(\"\\n以下是你可填入 Google Sheet 的欄位值：\")\n",
        "print(\"Org name:\", org_name)\n",
        "print(\"EIN:\", ein)\n",
        "print(\"Web Address:\", web_address)\n",
        "print(\"Email Address:\", email_address)\n",
        "print(\"Phone Number:\", phone_number)\n",
        "print(\"Student's Initial:\", your_initials)\n"
      ]
    }
  ]
}