{
  "nbformat": 4,
  "nbformat_minor": 0,
  "metadata": {
    "colab": {
      "provenance": [],
      "authorship_tag": "ABX9TyPShnlxphRfUYqCxD/LpI6L",
      "include_colab_link": true
    },
    "kernelspec": {
      "name": "python3",
      "display_name": "Python 3"
    },
    "language_info": {
      "name": "python"
    }
  },
  "cells": [
    {
      "cell_type": "markdown",
      "metadata": {
        "id": "view-in-github",
        "colab_type": "text"
      },
      "source": [
        "<a href=\"https://colab.research.google.com/github/alicetw40342/Data-gathering-Filling-in-NGO-contact-info/blob/main/Project4_task1_ipynb.ipynb\" target=\"_parent\"><img src=\"https://colab.research.google.com/assets/colab-badge.svg\" alt=\"Open In Colab\"/></a>"
      ]
    },
    {
      "cell_type": "code",
      "execution_count": 1,
      "metadata": {
        "colab": {
          "base_uri": "https://localhost:8080/"
        },
        "id": "XNvZR0H3mPu7",
        "outputId": "d856875e-b638-4949-f518-f1a01eeb67da"
      },
      "outputs": [
        {
          "output_type": "stream",
          "name": "stdout",
          "text": [
            "請點擊並確認是否能開啟： https://docs.google.com/spreadsheets/d/1ZXRtpw-uJWym3BtD-7bZzzQoSU_KTmWY/edit?usp=sharing\n",
            "\n",
            "請打開 Google Sheet，並完成以下檢查：\n",
            "1️⃣ 查看 Sheet1、Sheet2、Sheet3 的欄位名稱（例如：名稱、聯絡電話、Email、地址等）\n",
            "2️⃣ 確認了解資料的類型與格式，例如電話格式、電子郵件格式是否一致。\n",
            "\n",
            "✅ 請向老師或主管確認你負責的資料列範圍（例如第5~15列）\n",
            "\n",
            "⚠️【重要規則】請務必遵守：\n",
            "🚫 不可更改任何已填寫的資料\n",
            "✅ 只能填寫「空白」或標記為「缺漏」的欄位\n",
            "\n",
            "💡 完成以上步驟後，請等待進入 Phase 2 之後的任務（開始查找資料並填寫缺漏欄位）\n"
          ]
        }
      ],
      "source": [
        "# NGO Contact Info - Phase 1: Getting Started\n",
        "\n",
        "# 📌 Step 1: Open the Google Sheet\n",
        "# Make sure to access and review the sheet manually via the link below\n",
        "sheet_url = \"https://docs.google.com/spreadsheets/d/1ZXRtpw-uJWym3BtD-7bZzzQoSU_KTmWY/edit?usp=sharing\"\n",
        "print(\"請點擊並確認是否能開啟：\", sheet_url)\n",
        "\n",
        "# 📌 Step 2: Read Sheet Structure Instructions\n",
        "print(\"\\n請打開 Google Sheet，並完成以下檢查：\")\n",
        "print(\"1️⃣ 查看 Sheet1、Sheet2、Sheet3 的欄位名稱（例如：名稱、聯絡電話、Email、地址等）\")\n",
        "print(\"2️⃣ 確認了解資料的類型與格式，例如電話格式、電子郵件格式是否一致。\")\n",
        "\n",
        "# 📌 Step 3: 任務指派\n",
        "print(\"\\n✅ 請向老師或主管確認你負責的資料列範圍（例如第5~15列）\")\n",
        "assigned_range = \"請在這裡輸入你被指派的列範圍，例如：第11–20列\"\n",
        "\n",
        "# 📌 Step 4: 注意事項\n",
        "print(\"\\n⚠️【重要規則】請務必遵守：\")\n",
        "print(\"🚫 不可更改任何已填寫的資料\")\n",
        "print(\"✅ 只能填寫「空白」或標記為「缺漏」的欄位\")\n",
        "\n",
        "# 📌 提醒\n",
        "print(\"\\n💡 完成以上步驟後，請等待進入 Phase 2 之後的任務（開始查找資料並填寫缺漏欄位）\")\n"
      ]
    }
  ]
}